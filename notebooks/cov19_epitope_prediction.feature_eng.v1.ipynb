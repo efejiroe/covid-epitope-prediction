{
    "cells": [
        {
            "metadata": {},
            "cell_type": "markdown",
            "source": "## 1. Data Cleaning"
        },
        {
            "metadata": {},
            "cell_type": "code",
            "source": "# Run check for duplicates",
            "execution_count": 1,
            "outputs": []
        },
        {
            "metadata": {},
            "cell_type": "code",
            "source": "# Run check for missing values",
            "execution_count": null,
            "outputs": []
        },
        {
            "metadata": {},
            "cell_type": "markdown",
            "source": "## 2. Feature Transformations"
        },
        {
            "metadata": {},
            "cell_type": "code",
            "source": "# Normalization",
            "execution_count": null,
            "outputs": []
        },
        {
            "metadata": {},
            "cell_type": "code",
            "source": "# Low quality record detection",
            "execution_count": null,
            "outputs": []
        },
        {
            "metadata": {},
            "cell_type": "code",
            "source": "# Discretization",
            "execution_count": null,
            "outputs": []
        },
        {
            "metadata": {},
            "cell_type": "markdown",
            "source": "## 3. Feature Creation"
        },
        {
            "metadata": {},
            "cell_type": "code",
            "source": "# One-hot-encoding",
            "execution_count": null,
            "outputs": []
        }
    ],
    "metadata": {
        "kernelspec": {
            "name": "python3",
            "display_name": "Python 3.7",
            "language": "python"
        },
        "language_info": {
            "name": "python",
            "version": "3.7.10",
            "mimetype": "text/x-python",
            "codemirror_mode": {
                "name": "ipython",
                "version": 3
            },
            "pygments_lexer": "ipython3",
            "nbconvert_exporter": "python",
            "file_extension": ".py"
        }
    },
    "nbformat": 4,
    "nbformat_minor": 1
}