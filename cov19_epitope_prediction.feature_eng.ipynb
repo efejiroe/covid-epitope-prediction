{
    "cells": [
        {
            "cell_type": "markdown",
            "metadata": {},
            "source": "## 1. Setup"
        },
        {
            "cell_type": "code",
            "execution_count": 1,
            "metadata": {},
            "outputs": [],
            "source": "# Load dependencies\nimport pandas as pd\nimport numpy as np\nfrom sklearn import preprocessing\nfrom project_lib import Project"
        },
        {
            "cell_type": "code",
            "execution_count": 2,
            "metadata": {},
            "outputs": [],
            "source": "# Load data\nPROJECT_ID = \"be864dcc-5bf7-4978-b225-77c8e568a9bc\"\nPROJECT_TOKEN = \"p-4bfabbe1e029211e8cef6987a2e530ed6713ef9d\"\nINPUT_DIR = 'https://raw.githubusercontent.com/efejiroe/covid_epitope_prediction/master/data/'\n\nbcell = pd.read_csv(f'{INPUT_DIR}/input_bcell.csv')\nsars = pd.read_csv(f'{INPUT_DIR}/input_sars.csv') \nbsars = pd.concat([bcell, sars], axis=0, ignore_index=True) "
        },
        {
            "cell_type": "markdown",
            "metadata": {},
            "source": "## 2. Feature Transformations and Creation"
        },
        {
            "cell_type": "markdown",
            "metadata": {},
            "source": "### Strategy\n1. Drop columns previous shown to have low feature importance\n2. Create new column \"peptide_length\" from the end_position and start_positions"
        },
        {
            "cell_type": "code",
            "execution_count": 3,
            "metadata": {},
            "outputs": [],
            "source": "# Drop low importance and target columns from training and test set.\nbsars_ft = bsars.drop([\n    'parent_protein_id',\n    'protein_seq',\n    'start_position',\n    'end_position', \n    'peptide_seq',\n    'chou_fasman', \n    'emini',\n    'kolaskar_tongaonkar',\n    'parker',\n    'target'\n], axis = 1)"
        },
        {
            "cell_type": "code",
            "execution_count": 4,
            "metadata": {},
            "outputs": [],
            "source": "# Create peptide_length column\nbsars_ft['peptide_length'] = bsars['end_position'] - bsars['start_position'] + 1"
        },
        {
            "cell_type": "code",
            "execution_count": 5,
            "metadata": {},
            "outputs": [],
            "source": "# Scaling values between 1 and 0.\nscaler = preprocessing.MinMaxScaler()\nbsars_fts = scaler.fit_transform(bsars_ft)\nbsars_fts\nbsars_fts = pd.DataFrame(bsars_fts)"
        },
        {
            "cell_type": "code",
            "execution_count": 7,
            "metadata": {},
            "outputs": [
                {
                    "data": {
                        "text/plain": "{'file_name': 'df01.csv',\n 'message': 'File saved to project storage.',\n 'bucket_name': 'covid19epitopeprediction-donotdelete-pr-vjiedfg7ztqsrx',\n 'asset_id': '27e000cb-d186-4d37-85e3-5eb669ff28dd'}"
                    },
                    "execution_count": 7,
                    "metadata": {},
                    "output_type": "execute_result"
                }
            ],
            "source": "# Export training data to IBM cloud storage as \"df+strategy version number\" \nproject = Project(project_id = PROJECT_ID ,project_access_token = PROJECT_TOKEN)\ndf = bsars_fts\ndf\nproject.save_data(file_name = \"df01.csv\",data = df.to_csv(index=False))\n"
        }
    ],
    "metadata": {
        "kernelspec": {
            "display_name": "Python 3.7",
            "language": "python",
            "name": "python3"
        },
        "language_info": {
            "codemirror_mode": {
                "name": "ipython",
                "version": 3
            },
            "file_extension": ".py",
            "mimetype": "text/x-python",
            "name": "python",
            "nbconvert_exporter": "python",
            "pygments_lexer": "ipython3",
            "version": "3.7.10"
        }
    },
    "nbformat": 4,
    "nbformat_minor": 1
}