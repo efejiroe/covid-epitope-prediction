{
    "cells": [
        {
            "metadata": {
                "collapsed": true
            },
            "cell_type": "markdown",
            "source": "COVID 19 Epitope Prediction"
        },
        {
            "metadata": {},
            "cell_type": "markdown",
            "source": "Data Exploration"
        },
        {
            "metadata": {},
            "cell_type": "markdown",
            "source": "Introduction\nAbout the Data\nThe data is was collected from and is freely available as a published data set originally provided from The Immune Epitope Database(IEDB) and UniProt and comprises of proteins and their characteristics from 1) B-cell, the main training set data (input_bcell.csv), 2) SARS, also training set data (input_sars.csv) and 3) COVID19, the unlabled target (input_covid.csv). This notebook performs 1) an assessment on the quality of the data set, 2) an assessment on the features, and 3) value distribution of the features of the data set. No warranties exist regarding the correctness of the data, and there is disclaimer for liability for damages resulting from its use. Unrestricted permission regarding the use of the data was also not provided especially since some data may have been covered by patents or other rights."
        },
        {
            "metadata": {},
            "cell_type": "markdown",
            "source": "Preliminaries"
        },
        {
            "metadata": {},
            "cell_type": "markdown",
            "source": "Loading Libraries"
        },
        {
            "metadata": {},
            "cell_type": "code",
            "source": "import pandas as pd\nimport numpy as np\nimport seaborn as sns\nimport matplotlib.pyplot as plt\nfrom sklearn.ensemble import ExtraTreesClassifier\nfrom sklearn.metrics import classification_report,confusion_matrix\nfrom sklearn.model_selection import train_test_split\nfrom sklearn.preprocessing import StandardScaler\nfrom sklearn.decomposition import PCA\nfrom sklearn.utils import resample",
            "execution_count": 21,
            "outputs": []
        },
        {
            "metadata": {},
            "cell_type": "markdown",
            "source": "Reading in the data"
        },
        {
            "metadata": {},
            "cell_type": "code",
            "source": "INPUT_DIR = 'https://raw.githubusercontent.com/efejiroe/covid_epitope_prediction/master/data/'\nbcell = pd.read_csv(f'{INPUT_DIR}/input_bcell.csv')\nsars = pd.read_csv(f'{INPUT_DIR}/input_sars.csv')\ncovid1 = pd.read_csv(f'{INPUT_DIR}/input_covid_01.csv')\ncovid2 = pd.read_csv(f'{INPUT_DIR}/input_covid_02.csv')\ncovid = pd.concat([covid1, covid2], axis=0, ignore_index=True)\nbsars = pd.concat([bcell, sars], axis=0, ignore_index=True)",
            "execution_count": 22,
            "outputs": []
        },
        {
            "metadata": {},
            "cell_type": "markdown",
            "source": "Information on the data"
        },
        {
            "metadata": {},
            "cell_type": "code",
            "source": "## sars training set I\nsars.head(3)",
            "execution_count": 31,
            "outputs": [
                {
                    "output_type": "execute_result",
                    "execution_count": 31,
                    "data": {
                        "text/plain": "  parent_protein_id                                        protein_seq  \\\n0          AAU93319  MFIFLLFLTLTSGSDLDRCTTFDDVQAPNYTQHTSSMRGVYYPDEI...   \n1          AAU93319  MFIFLLFLTLTSGSDLDRCTTFDDVQAPNYTQHTSSMRGVYYPDEI...   \n2          AAU93319  MFIFLLFLTLTSGSDLDRCTTFDDVQAPNYTQHTSSMRGVYYPDEI...   \n\n   start_position  end_position        peptide_seq  chou_fasman  emini  \\\n0               1            17  MFIFLLFLTLTSGSDLD        0.887  0.040   \n1               1            15    MFIFLLFLTLTSGSD        0.869  0.047   \n2               2            10          FIFLLFLTL        0.621  0.042   \n\n   kolaskar_tongaonkar  parker  isoelectric_point  aromaticity  \\\n0                1.056  -2.159           5.569763     0.116335   \n1                1.056  -2.500           5.569763     0.116335   \n2                1.148  -7.467           5.569763     0.116335   \n\n   hydrophobicity  stability  target  \n0       -0.061116  33.205116       0  \n1       -0.061116  33.205116       0  \n2       -0.061116  33.205116       0  ",
                        "text/html": "<div>\n<style scoped>\n    .dataframe tbody tr th:only-of-type {\n        vertical-align: middle;\n    }\n\n    .dataframe tbody tr th {\n        vertical-align: top;\n    }\n\n    .dataframe thead th {\n        text-align: right;\n    }\n</style>\n<table border=\"1\" class=\"dataframe\">\n  <thead>\n    <tr style=\"text-align: right;\">\n      <th></th>\n      <th>parent_protein_id</th>\n      <th>protein_seq</th>\n      <th>start_position</th>\n      <th>end_position</th>\n      <th>peptide_seq</th>\n      <th>chou_fasman</th>\n      <th>emini</th>\n      <th>kolaskar_tongaonkar</th>\n      <th>parker</th>\n      <th>isoelectric_point</th>\n      <th>aromaticity</th>\n      <th>hydrophobicity</th>\n      <th>stability</th>\n      <th>target</th>\n    </tr>\n  </thead>\n  <tbody>\n    <tr>\n      <th>0</th>\n      <td>AAU93319</td>\n      <td>MFIFLLFLTLTSGSDLDRCTTFDDVQAPNYTQHTSSMRGVYYPDEI...</td>\n      <td>1</td>\n      <td>17</td>\n      <td>MFIFLLFLTLTSGSDLD</td>\n      <td>0.887</td>\n      <td>0.040</td>\n      <td>1.056</td>\n      <td>-2.159</td>\n      <td>5.569763</td>\n      <td>0.116335</td>\n      <td>-0.061116</td>\n      <td>33.205116</td>\n      <td>0</td>\n    </tr>\n    <tr>\n      <th>1</th>\n      <td>AAU93319</td>\n      <td>MFIFLLFLTLTSGSDLDRCTTFDDVQAPNYTQHTSSMRGVYYPDEI...</td>\n      <td>1</td>\n      <td>15</td>\n      <td>MFIFLLFLTLTSGSD</td>\n      <td>0.869</td>\n      <td>0.047</td>\n      <td>1.056</td>\n      <td>-2.500</td>\n      <td>5.569763</td>\n      <td>0.116335</td>\n      <td>-0.061116</td>\n      <td>33.205116</td>\n      <td>0</td>\n    </tr>\n    <tr>\n      <th>2</th>\n      <td>AAU93319</td>\n      <td>MFIFLLFLTLTSGSDLDRCTTFDDVQAPNYTQHTSSMRGVYYPDEI...</td>\n      <td>2</td>\n      <td>10</td>\n      <td>FIFLLFLTL</td>\n      <td>0.621</td>\n      <td>0.042</td>\n      <td>1.148</td>\n      <td>-7.467</td>\n      <td>5.569763</td>\n      <td>0.116335</td>\n      <td>-0.061116</td>\n      <td>33.205116</td>\n      <td>0</td>\n    </tr>\n  </tbody>\n</table>\n</div>"
                    },
                    "metadata": {}
                }
            ]
        },
        {
            "metadata": {},
            "cell_type": "code",
            "source": "sars.info()",
            "execution_count": 32,
            "outputs": [
                {
                    "output_type": "stream",
                    "text": "<class 'pandas.core.frame.DataFrame'>\nRangeIndex: 520 entries, 0 to 519\nData columns (total 14 columns):\n #   Column               Non-Null Count  Dtype  \n---  ------               --------------  -----  \n 0   parent_protein_id    520 non-null    object \n 1   protein_seq          520 non-null    object \n 2   start_position       520 non-null    int64  \n 3   end_position         520 non-null    int64  \n 4   peptide_seq          520 non-null    object \n 5   chou_fasman          520 non-null    float64\n 6   emini                520 non-null    float64\n 7   kolaskar_tongaonkar  520 non-null    float64\n 8   parker               520 non-null    float64\n 9   isoelectric_point    520 non-null    float64\n 10  aromaticity          520 non-null    float64\n 11  hydrophobicity       520 non-null    float64\n 12  stability            520 non-null    float64\n 13  target               520 non-null    int64  \ndtypes: float64(8), int64(3), object(3)\nmemory usage: 57.0+ KB\n",
                    "name": "stdout"
                }
            ]
        },
        {
            "metadata": {},
            "cell_type": "code",
            "source": "## bcell training set II\nbcell.head(3)",
            "execution_count": 24,
            "outputs": [
                {
                    "output_type": "execute_result",
                    "execution_count": 24,
                    "data": {
                        "text/plain": "  parent_protein_id                                        protein_seq  \\\n0            A2T3T0  MDVLYSLSKTLKDARDKIVEGTLYSNVSDLIQQFNQMIITMNGNEF...   \n1            F0V2I4  MTIHKVAINGFGRIGRLLFRNLLSSQGVQVVAVNDVVDIKVLTHLL...   \n2            O75508  MVATCLQVVGFVTSFVGWIGVIVTTSTNDWVVTCGYTIPTCRKLDE...   \n\n   start_position  end_position peptide_seq  chou_fasman  emini  \\\n0             161           165       SASFT        1.016  0.703   \n1             251           255       LCLKI        0.770  0.179   \n2             145           149       AHRET        0.852  3.427   \n\n   kolaskar_tongaonkar  parker  isoelectric_point  aromaticity  \\\n0                1.018    2.22           5.810364     0.103275   \n1                1.199   -3.86           6.210876     0.065476   \n2                0.960    4.28           8.223938     0.091787   \n\n   hydrophobicity  stability  target  \n0       -0.143829  40.273300       1  \n1       -0.036905  24.998512       1  \n2        0.879227  27.863333       1  ",
                        "text/html": "<div>\n<style scoped>\n    .dataframe tbody tr th:only-of-type {\n        vertical-align: middle;\n    }\n\n    .dataframe tbody tr th {\n        vertical-align: top;\n    }\n\n    .dataframe thead th {\n        text-align: right;\n    }\n</style>\n<table border=\"1\" class=\"dataframe\">\n  <thead>\n    <tr style=\"text-align: right;\">\n      <th></th>\n      <th>parent_protein_id</th>\n      <th>protein_seq</th>\n      <th>start_position</th>\n      <th>end_position</th>\n      <th>peptide_seq</th>\n      <th>chou_fasman</th>\n      <th>emini</th>\n      <th>kolaskar_tongaonkar</th>\n      <th>parker</th>\n      <th>isoelectric_point</th>\n      <th>aromaticity</th>\n      <th>hydrophobicity</th>\n      <th>stability</th>\n      <th>target</th>\n    </tr>\n  </thead>\n  <tbody>\n    <tr>\n      <th>0</th>\n      <td>A2T3T0</td>\n      <td>MDVLYSLSKTLKDARDKIVEGTLYSNVSDLIQQFNQMIITMNGNEF...</td>\n      <td>161</td>\n      <td>165</td>\n      <td>SASFT</td>\n      <td>1.016</td>\n      <td>0.703</td>\n      <td>1.018</td>\n      <td>2.22</td>\n      <td>5.810364</td>\n      <td>0.103275</td>\n      <td>-0.143829</td>\n      <td>40.273300</td>\n      <td>1</td>\n    </tr>\n    <tr>\n      <th>1</th>\n      <td>F0V2I4</td>\n      <td>MTIHKVAINGFGRIGRLLFRNLLSSQGVQVVAVNDVVDIKVLTHLL...</td>\n      <td>251</td>\n      <td>255</td>\n      <td>LCLKI</td>\n      <td>0.770</td>\n      <td>0.179</td>\n      <td>1.199</td>\n      <td>-3.86</td>\n      <td>6.210876</td>\n      <td>0.065476</td>\n      <td>-0.036905</td>\n      <td>24.998512</td>\n      <td>1</td>\n    </tr>\n    <tr>\n      <th>2</th>\n      <td>O75508</td>\n      <td>MVATCLQVVGFVTSFVGWIGVIVTTSTNDWVVTCGYTIPTCRKLDE...</td>\n      <td>145</td>\n      <td>149</td>\n      <td>AHRET</td>\n      <td>0.852</td>\n      <td>3.427</td>\n      <td>0.960</td>\n      <td>4.28</td>\n      <td>8.223938</td>\n      <td>0.091787</td>\n      <td>0.879227</td>\n      <td>27.863333</td>\n      <td>1</td>\n    </tr>\n  </tbody>\n</table>\n</div>"
                    },
                    "metadata": {}
                }
            ]
        },
        {
            "metadata": {},
            "cell_type": "code",
            "source": "## bsars consolidated training set\nbsars.head(3)",
            "execution_count": 25,
            "outputs": [
                {
                    "output_type": "execute_result",
                    "execution_count": 25,
                    "data": {
                        "text/plain": "  parent_protein_id                                        protein_seq  \\\n0            A2T3T0  MDVLYSLSKTLKDARDKIVEGTLYSNVSDLIQQFNQMIITMNGNEF...   \n1            F0V2I4  MTIHKVAINGFGRIGRLLFRNLLSSQGVQVVAVNDVVDIKVLTHLL...   \n2            O75508  MVATCLQVVGFVTSFVGWIGVIVTTSTNDWVVTCGYTIPTCRKLDE...   \n\n   start_position  end_position peptide_seq  chou_fasman  emini  \\\n0             161           165       SASFT        1.016  0.703   \n1             251           255       LCLKI        0.770  0.179   \n2             145           149       AHRET        0.852  3.427   \n\n   kolaskar_tongaonkar  parker  isoelectric_point  aromaticity  \\\n0                1.018    2.22           5.810364     0.103275   \n1                1.199   -3.86           6.210876     0.065476   \n2                0.960    4.28           8.223938     0.091787   \n\n   hydrophobicity  stability  target  \n0       -0.143829  40.273300       1  \n1       -0.036905  24.998512       1  \n2        0.879227  27.863333       1  ",
                        "text/html": "<div>\n<style scoped>\n    .dataframe tbody tr th:only-of-type {\n        vertical-align: middle;\n    }\n\n    .dataframe tbody tr th {\n        vertical-align: top;\n    }\n\n    .dataframe thead th {\n        text-align: right;\n    }\n</style>\n<table border=\"1\" class=\"dataframe\">\n  <thead>\n    <tr style=\"text-align: right;\">\n      <th></th>\n      <th>parent_protein_id</th>\n      <th>protein_seq</th>\n      <th>start_position</th>\n      <th>end_position</th>\n      <th>peptide_seq</th>\n      <th>chou_fasman</th>\n      <th>emini</th>\n      <th>kolaskar_tongaonkar</th>\n      <th>parker</th>\n      <th>isoelectric_point</th>\n      <th>aromaticity</th>\n      <th>hydrophobicity</th>\n      <th>stability</th>\n      <th>target</th>\n    </tr>\n  </thead>\n  <tbody>\n    <tr>\n      <th>0</th>\n      <td>A2T3T0</td>\n      <td>MDVLYSLSKTLKDARDKIVEGTLYSNVSDLIQQFNQMIITMNGNEF...</td>\n      <td>161</td>\n      <td>165</td>\n      <td>SASFT</td>\n      <td>1.016</td>\n      <td>0.703</td>\n      <td>1.018</td>\n      <td>2.22</td>\n      <td>5.810364</td>\n      <td>0.103275</td>\n      <td>-0.143829</td>\n      <td>40.273300</td>\n      <td>1</td>\n    </tr>\n    <tr>\n      <th>1</th>\n      <td>F0V2I4</td>\n      <td>MTIHKVAINGFGRIGRLLFRNLLSSQGVQVVAVNDVVDIKVLTHLL...</td>\n      <td>251</td>\n      <td>255</td>\n      <td>LCLKI</td>\n      <td>0.770</td>\n      <td>0.179</td>\n      <td>1.199</td>\n      <td>-3.86</td>\n      <td>6.210876</td>\n      <td>0.065476</td>\n      <td>-0.036905</td>\n      <td>24.998512</td>\n      <td>1</td>\n    </tr>\n    <tr>\n      <th>2</th>\n      <td>O75508</td>\n      <td>MVATCLQVVGFVTSFVGWIGVIVTTSTNDWVVTCGYTIPTCRKLDE...</td>\n      <td>145</td>\n      <td>149</td>\n      <td>AHRET</td>\n      <td>0.852</td>\n      <td>3.427</td>\n      <td>0.960</td>\n      <td>4.28</td>\n      <td>8.223938</td>\n      <td>0.091787</td>\n      <td>0.879227</td>\n      <td>27.863333</td>\n      <td>1</td>\n    </tr>\n  </tbody>\n</table>\n</div>"
                    },
                    "metadata": {}
                }
            ]
        },
        {
            "metadata": {},
            "cell_type": "code",
            "source": "## covid test set\ncovid.head(3)",
            "execution_count": 26,
            "outputs": [
                {
                    "output_type": "execute_result",
                    "execution_count": 26,
                    "data": {
                        "text/plain": "  parent_protein_id                                        protein_seq  \\\n0            6VYB_A  MGILPSPGMPALLSLVSLLSVLLMGCVAETGTQCVNLTTRTQLPPA...   \n1            6VYB_A  MGILPSPGMPALLSLVSLLSVLLMGCVAETGTQCVNLTTRTQLPPA...   \n2            6VYB_A  MGILPSPGMPALLSLVSLLSVLLMGCVAETGTQCVNLTTRTQLPPA...   \n\n   start_position  end_position peptide_seq  chou_fasman  emini  \\\n0               1             5       MGILP        0.948  0.280   \n1               2             6       GILPS        1.114  0.379   \n2               3             7       ILPSP        1.106  0.592   \n\n   kolaskar_tongaonkar  parker  isoelectric_point  aromaticity  \\\n0                1.033   -2.72            6.03595      0.10929   \n1                1.070   -0.58            6.03595      0.10929   \n2                1.108   -1.30            6.03595      0.10929   \n\n   hydrophobicity  stability  \n0       -0.138642  31.377603  \n1       -0.138642  31.377603  \n2       -0.138642  31.377603  ",
                        "text/html": "<div>\n<style scoped>\n    .dataframe tbody tr th:only-of-type {\n        vertical-align: middle;\n    }\n\n    .dataframe tbody tr th {\n        vertical-align: top;\n    }\n\n    .dataframe thead th {\n        text-align: right;\n    }\n</style>\n<table border=\"1\" class=\"dataframe\">\n  <thead>\n    <tr style=\"text-align: right;\">\n      <th></th>\n      <th>parent_protein_id</th>\n      <th>protein_seq</th>\n      <th>start_position</th>\n      <th>end_position</th>\n      <th>peptide_seq</th>\n      <th>chou_fasman</th>\n      <th>emini</th>\n      <th>kolaskar_tongaonkar</th>\n      <th>parker</th>\n      <th>isoelectric_point</th>\n      <th>aromaticity</th>\n      <th>hydrophobicity</th>\n      <th>stability</th>\n    </tr>\n  </thead>\n  <tbody>\n    <tr>\n      <th>0</th>\n      <td>6VYB_A</td>\n      <td>MGILPSPGMPALLSLVSLLSVLLMGCVAETGTQCVNLTTRTQLPPA...</td>\n      <td>1</td>\n      <td>5</td>\n      <td>MGILP</td>\n      <td>0.948</td>\n      <td>0.280</td>\n      <td>1.033</td>\n      <td>-2.72</td>\n      <td>6.03595</td>\n      <td>0.10929</td>\n      <td>-0.138642</td>\n      <td>31.377603</td>\n    </tr>\n    <tr>\n      <th>1</th>\n      <td>6VYB_A</td>\n      <td>MGILPSPGMPALLSLVSLLSVLLMGCVAETGTQCVNLTTRTQLPPA...</td>\n      <td>2</td>\n      <td>6</td>\n      <td>GILPS</td>\n      <td>1.114</td>\n      <td>0.379</td>\n      <td>1.070</td>\n      <td>-0.58</td>\n      <td>6.03595</td>\n      <td>0.10929</td>\n      <td>-0.138642</td>\n      <td>31.377603</td>\n    </tr>\n    <tr>\n      <th>2</th>\n      <td>6VYB_A</td>\n      <td>MGILPSPGMPALLSLVSLLSVLLMGCVAETGTQCVNLTTRTQLPPA...</td>\n      <td>3</td>\n      <td>7</td>\n      <td>ILPSP</td>\n      <td>1.106</td>\n      <td>0.592</td>\n      <td>1.108</td>\n      <td>-1.30</td>\n      <td>6.03595</td>\n      <td>0.10929</td>\n      <td>-0.138642</td>\n      <td>31.377603</td>\n    </tr>\n  </tbody>\n</table>\n</div>"
                    },
                    "metadata": {}
                }
            ]
        },
        {
            "metadata": {},
            "cell_type": "markdown",
            "source": "Data Assessment"
        },
        {
            "metadata": {},
            "cell_type": "markdown",
            "source": "No missing values was shown to exist in both training and test sets and the data types are described below."
        },
        {
            "metadata": {},
            "cell_type": "code",
            "source": "## Checking columns for data type and null values\nbsars.info()\ncovid.info()",
            "execution_count": 34,
            "outputs": [
                {
                    "output_type": "stream",
                    "text": "<class 'pandas.core.frame.DataFrame'>\nRangeIndex: 14907 entries, 0 to 14906\nData columns (total 14 columns):\n #   Column               Non-Null Count  Dtype  \n---  ------               --------------  -----  \n 0   parent_protein_id    14907 non-null  object \n 1   protein_seq          14907 non-null  object \n 2   start_position       14907 non-null  int64  \n 3   end_position         14907 non-null  int64  \n 4   peptide_seq          14907 non-null  object \n 5   chou_fasman          14907 non-null  float64\n 6   emini                14907 non-null  float64\n 7   kolaskar_tongaonkar  14907 non-null  float64\n 8   parker               14907 non-null  float64\n 9   isoelectric_point    14907 non-null  float64\n 10  aromaticity          14907 non-null  float64\n 11  hydrophobicity       14907 non-null  float64\n 12  stability            14907 non-null  float64\n 13  target               14907 non-null  int64  \ndtypes: float64(8), int64(3), object(3)\nmemory usage: 1.6+ MB\n<class 'pandas.core.frame.DataFrame'>\nRangeIndex: 20312 entries, 0 to 20311\nData columns (total 13 columns):\n #   Column               Non-Null Count  Dtype  \n---  ------               --------------  -----  \n 0   parent_protein_id    20312 non-null  object \n 1   protein_seq          20312 non-null  object \n 2   start_position       20312 non-null  int64  \n 3   end_position         20312 non-null  int64  \n 4   peptide_seq          20312 non-null  object \n 5   chou_fasman          20312 non-null  float64\n 6   emini                20312 non-null  float64\n 7   kolaskar_tongaonkar  20312 non-null  float64\n 8   parker               20312 non-null  float64\n 9   isoelectric_point    20312 non-null  float64\n 10  aromaticity          20312 non-null  float64\n 11  hydrophobicity       20312 non-null  float64\n 12  stability            20312 non-null  float64\ndtypes: float64(8), int64(2), object(3)\nmemory usage: 2.0+ MB\n",
                    "name": "stdout"
                }
            ]
        },
        {
            "metadata": {},
            "cell_type": "markdown",
            "source": "Feature Importance"
        },
        {
            "metadata": {},
            "cell_type": "code",
            "source": "sars.describe()",
            "execution_count": 36,
            "outputs": [
                {
                    "output_type": "execute_result",
                    "execution_count": 36,
                    "data": {
                        "text/plain": "       start_position  end_position  chou_fasman       emini  \\\ncount      520.000000    520.000000   520.000000  520.000000   \nmean       617.871154    635.876923     1.000442    1.719804   \nstd        349.582246    349.315328     0.087190    4.736354   \nmin          1.000000     10.000000     0.621000    0.000000   \n25%        359.000000    373.750000     0.949000    0.179750   \n50%        571.500000    592.500000     1.009000    0.439500   \n75%        921.000000    940.000000     1.055250    1.181250   \nmax       1241.000000   1255.000000     1.317000   40.605000   \n\n       kolaskar_tongaonkar      parker  isoelectric_point  aromaticity  \\\ncount           520.000000  520.000000         520.000000   520.000000   \nmean              1.038960    1.278696           5.569763     0.116335   \nstd               0.037978    1.418791           0.000000     0.000000   \nmin               0.908000   -7.467000           5.569763     0.116335   \n25%               1.013000    0.534500           5.569763     0.116335   \n50%               1.036000    1.412000           5.569763     0.116335   \n75%               1.058000    2.245000           5.569763     0.116335   \nmax               1.228000    4.907000           5.569763     0.116335   \n\n       hydrophobicity     stability      target  \ncount    5.200000e+02  5.200000e+02  520.000000  \nmean    -6.111554e-02  3.320512e+01    0.269231  \nstd      6.945576e-18  1.422454e-14    0.443987  \nmin     -6.111554e-02  3.320512e+01    0.000000  \n25%     -6.111554e-02  3.320512e+01    0.000000  \n50%     -6.111554e-02  3.320512e+01    0.000000  \n75%     -6.111554e-02  3.320512e+01    1.000000  \nmax     -6.111554e-02  3.320512e+01    1.000000  ",
                        "text/html": "<div>\n<style scoped>\n    .dataframe tbody tr th:only-of-type {\n        vertical-align: middle;\n    }\n\n    .dataframe tbody tr th {\n        vertical-align: top;\n    }\n\n    .dataframe thead th {\n        text-align: right;\n    }\n</style>\n<table border=\"1\" class=\"dataframe\">\n  <thead>\n    <tr style=\"text-align: right;\">\n      <th></th>\n      <th>start_position</th>\n      <th>end_position</th>\n      <th>chou_fasman</th>\n      <th>emini</th>\n      <th>kolaskar_tongaonkar</th>\n      <th>parker</th>\n      <th>isoelectric_point</th>\n      <th>aromaticity</th>\n      <th>hydrophobicity</th>\n      <th>stability</th>\n      <th>target</th>\n    </tr>\n  </thead>\n  <tbody>\n    <tr>\n      <th>count</th>\n      <td>520.000000</td>\n      <td>520.000000</td>\n      <td>520.000000</td>\n      <td>520.000000</td>\n      <td>520.000000</td>\n      <td>520.000000</td>\n      <td>520.000000</td>\n      <td>520.000000</td>\n      <td>5.200000e+02</td>\n      <td>5.200000e+02</td>\n      <td>520.000000</td>\n    </tr>\n    <tr>\n      <th>mean</th>\n      <td>617.871154</td>\n      <td>635.876923</td>\n      <td>1.000442</td>\n      <td>1.719804</td>\n      <td>1.038960</td>\n      <td>1.278696</td>\n      <td>5.569763</td>\n      <td>0.116335</td>\n      <td>-6.111554e-02</td>\n      <td>3.320512e+01</td>\n      <td>0.269231</td>\n    </tr>\n    <tr>\n      <th>std</th>\n      <td>349.582246</td>\n      <td>349.315328</td>\n      <td>0.087190</td>\n      <td>4.736354</td>\n      <td>0.037978</td>\n      <td>1.418791</td>\n      <td>0.000000</td>\n      <td>0.000000</td>\n      <td>6.945576e-18</td>\n      <td>1.422454e-14</td>\n      <td>0.443987</td>\n    </tr>\n    <tr>\n      <th>min</th>\n      <td>1.000000</td>\n      <td>10.000000</td>\n      <td>0.621000</td>\n      <td>0.000000</td>\n      <td>0.908000</td>\n      <td>-7.467000</td>\n      <td>5.569763</td>\n      <td>0.116335</td>\n      <td>-6.111554e-02</td>\n      <td>3.320512e+01</td>\n      <td>0.000000</td>\n    </tr>\n    <tr>\n      <th>25%</th>\n      <td>359.000000</td>\n      <td>373.750000</td>\n      <td>0.949000</td>\n      <td>0.179750</td>\n      <td>1.013000</td>\n      <td>0.534500</td>\n      <td>5.569763</td>\n      <td>0.116335</td>\n      <td>-6.111554e-02</td>\n      <td>3.320512e+01</td>\n      <td>0.000000</td>\n    </tr>\n    <tr>\n      <th>50%</th>\n      <td>571.500000</td>\n      <td>592.500000</td>\n      <td>1.009000</td>\n      <td>0.439500</td>\n      <td>1.036000</td>\n      <td>1.412000</td>\n      <td>5.569763</td>\n      <td>0.116335</td>\n      <td>-6.111554e-02</td>\n      <td>3.320512e+01</td>\n      <td>0.000000</td>\n    </tr>\n    <tr>\n      <th>75%</th>\n      <td>921.000000</td>\n      <td>940.000000</td>\n      <td>1.055250</td>\n      <td>1.181250</td>\n      <td>1.058000</td>\n      <td>2.245000</td>\n      <td>5.569763</td>\n      <td>0.116335</td>\n      <td>-6.111554e-02</td>\n      <td>3.320512e+01</td>\n      <td>1.000000</td>\n    </tr>\n    <tr>\n      <th>max</th>\n      <td>1241.000000</td>\n      <td>1255.000000</td>\n      <td>1.317000</td>\n      <td>40.605000</td>\n      <td>1.228000</td>\n      <td>4.907000</td>\n      <td>5.569763</td>\n      <td>0.116335</td>\n      <td>-6.111554e-02</td>\n      <td>3.320512e+01</td>\n      <td>1.000000</td>\n    </tr>\n  </tbody>\n</table>\n</div>"
                    },
                    "metadata": {}
                }
            ]
        },
        {
            "metadata": {},
            "cell_type": "code",
            "source": "",
            "execution_count": null,
            "outputs": []
        },
        {
            "metadata": {},
            "cell_type": "markdown",
            "source": ""
        },
        {
            "metadata": {},
            "cell_type": "code",
            "source": "",
            "execution_count": 18,
            "outputs": [
                {
                    "output_type": "error",
                    "ename": "ValueError",
                    "evalue": "could not convert string to float: 'A2T3T0'",
                    "traceback": [
                        "\u001b[0;31m---------------------------------------------------------------------------\u001b[0m",
                        "\u001b[0;31mValueError\u001b[0m                                Traceback (most recent call last)",
                        "\u001b[0;32m<ipython-input-18-f510849a67c4>\u001b[0m in \u001b[0;36m<module>\u001b[0;34m\u001b[0m\n\u001b[1;32m      2\u001b[0m \u001b[0my\u001b[0m \u001b[0;34m=\u001b[0m \u001b[0mbsars\u001b[0m\u001b[0;34m.\u001b[0m\u001b[0miloc\u001b[0m\u001b[0;34m[\u001b[0m\u001b[0;34m:\u001b[0m\u001b[0;34m,\u001b[0m\u001b[0;34m-\u001b[0m\u001b[0;36m1\u001b[0m\u001b[0;34m]\u001b[0m\u001b[0;34m\u001b[0m\u001b[0;34m\u001b[0m\u001b[0m\n\u001b[1;32m      3\u001b[0m \u001b[0mmodel\u001b[0m \u001b[0;34m=\u001b[0m \u001b[0mExtraTreesClassifier\u001b[0m\u001b[0;34m(\u001b[0m\u001b[0;34m)\u001b[0m\u001b[0;34m\u001b[0m\u001b[0;34m\u001b[0m\u001b[0m\n\u001b[0;32m----> 4\u001b[0;31m \u001b[0mmodel\u001b[0m\u001b[0;34m.\u001b[0m\u001b[0mfit\u001b[0m\u001b[0;34m(\u001b[0m\u001b[0mX\u001b[0m\u001b[0;34m,\u001b[0m\u001b[0my\u001b[0m\u001b[0;34m)\u001b[0m\u001b[0;34m\u001b[0m\u001b[0;34m\u001b[0m\u001b[0m\n\u001b[0m\u001b[1;32m      5\u001b[0m \u001b[0mprint\u001b[0m\u001b[0;34m(\u001b[0m\u001b[0mmodel\u001b[0m\u001b[0;34m.\u001b[0m\u001b[0mfeature_importances_\u001b[0m\u001b[0;34m)\u001b[0m\u001b[0;34m\u001b[0m\u001b[0;34m\u001b[0m\u001b[0m\n\u001b[1;32m      6\u001b[0m \u001b[0mfeat_importances\u001b[0m \u001b[0;34m=\u001b[0m \u001b[0mpd\u001b[0m\u001b[0;34m.\u001b[0m\u001b[0mSeries\u001b[0m\u001b[0;34m(\u001b[0m\u001b[0mmodel\u001b[0m\u001b[0;34m.\u001b[0m\u001b[0mfeature_importances_\u001b[0m\u001b[0;34m,\u001b[0m \u001b[0mindex\u001b[0m\u001b[0;34m=\u001b[0m\u001b[0mX\u001b[0m\u001b[0;34m.\u001b[0m\u001b[0mcolumns\u001b[0m\u001b[0;34m)\u001b[0m\u001b[0;34m\u001b[0m\u001b[0;34m\u001b[0m\u001b[0m\n",
                        "\u001b[0;32m/opt/conda/envs/Python-3.7-main/lib/python3.7/site-packages/sklearn/ensemble/_forest.py\u001b[0m in \u001b[0;36mfit\u001b[0;34m(self, X, y, sample_weight)\u001b[0m\n\u001b[1;32m    302\u001b[0m             )\n\u001b[1;32m    303\u001b[0m         X, y = self._validate_data(X, y, multi_output=True,\n\u001b[0;32m--> 304\u001b[0;31m                                    accept_sparse=\"csc\", dtype=DTYPE)\n\u001b[0m\u001b[1;32m    305\u001b[0m         \u001b[0;32mif\u001b[0m \u001b[0msample_weight\u001b[0m \u001b[0;32mis\u001b[0m \u001b[0;32mnot\u001b[0m \u001b[0;32mNone\u001b[0m\u001b[0;34m:\u001b[0m\u001b[0;34m\u001b[0m\u001b[0;34m\u001b[0m\u001b[0m\n\u001b[1;32m    306\u001b[0m             \u001b[0msample_weight\u001b[0m \u001b[0;34m=\u001b[0m \u001b[0m_check_sample_weight\u001b[0m\u001b[0;34m(\u001b[0m\u001b[0msample_weight\u001b[0m\u001b[0;34m,\u001b[0m \u001b[0mX\u001b[0m\u001b[0;34m)\u001b[0m\u001b[0;34m\u001b[0m\u001b[0;34m\u001b[0m\u001b[0m\n",
                        "\u001b[0;32m/opt/conda/envs/Python-3.7-main/lib/python3.7/site-packages/sklearn/base.py\u001b[0m in \u001b[0;36m_validate_data\u001b[0;34m(self, X, y, reset, validate_separately, **check_params)\u001b[0m\n\u001b[1;32m    430\u001b[0m                 \u001b[0my\u001b[0m \u001b[0;34m=\u001b[0m \u001b[0mcheck_array\u001b[0m\u001b[0;34m(\u001b[0m\u001b[0my\u001b[0m\u001b[0;34m,\u001b[0m \u001b[0;34m**\u001b[0m\u001b[0mcheck_y_params\u001b[0m\u001b[0;34m)\u001b[0m\u001b[0;34m\u001b[0m\u001b[0;34m\u001b[0m\u001b[0m\n\u001b[1;32m    431\u001b[0m             \u001b[0;32melse\u001b[0m\u001b[0;34m:\u001b[0m\u001b[0;34m\u001b[0m\u001b[0;34m\u001b[0m\u001b[0m\n\u001b[0;32m--> 432\u001b[0;31m                 \u001b[0mX\u001b[0m\u001b[0;34m,\u001b[0m \u001b[0my\u001b[0m \u001b[0;34m=\u001b[0m \u001b[0mcheck_X_y\u001b[0m\u001b[0;34m(\u001b[0m\u001b[0mX\u001b[0m\u001b[0;34m,\u001b[0m \u001b[0my\u001b[0m\u001b[0;34m,\u001b[0m \u001b[0;34m**\u001b[0m\u001b[0mcheck_params\u001b[0m\u001b[0;34m)\u001b[0m\u001b[0;34m\u001b[0m\u001b[0;34m\u001b[0m\u001b[0m\n\u001b[0m\u001b[1;32m    433\u001b[0m             \u001b[0mout\u001b[0m \u001b[0;34m=\u001b[0m \u001b[0mX\u001b[0m\u001b[0;34m,\u001b[0m \u001b[0my\u001b[0m\u001b[0;34m\u001b[0m\u001b[0;34m\u001b[0m\u001b[0m\n\u001b[1;32m    434\u001b[0m \u001b[0;34m\u001b[0m\u001b[0m\n",
                        "\u001b[0;32m/opt/conda/envs/Python-3.7-main/lib/python3.7/site-packages/sklearn/utils/validation.py\u001b[0m in \u001b[0;36minner_f\u001b[0;34m(*args, **kwargs)\u001b[0m\n\u001b[1;32m     71\u001b[0m                           FutureWarning)\n\u001b[1;32m     72\u001b[0m         \u001b[0mkwargs\u001b[0m\u001b[0;34m.\u001b[0m\u001b[0mupdate\u001b[0m\u001b[0;34m(\u001b[0m\u001b[0;34m{\u001b[0m\u001b[0mk\u001b[0m\u001b[0;34m:\u001b[0m \u001b[0marg\u001b[0m \u001b[0;32mfor\u001b[0m \u001b[0mk\u001b[0m\u001b[0;34m,\u001b[0m \u001b[0marg\u001b[0m \u001b[0;32min\u001b[0m \u001b[0mzip\u001b[0m\u001b[0;34m(\u001b[0m\u001b[0msig\u001b[0m\u001b[0;34m.\u001b[0m\u001b[0mparameters\u001b[0m\u001b[0;34m,\u001b[0m \u001b[0margs\u001b[0m\u001b[0;34m)\u001b[0m\u001b[0;34m}\u001b[0m\u001b[0;34m)\u001b[0m\u001b[0;34m\u001b[0m\u001b[0;34m\u001b[0m\u001b[0m\n\u001b[0;32m---> 73\u001b[0;31m         \u001b[0;32mreturn\u001b[0m \u001b[0mf\u001b[0m\u001b[0;34m(\u001b[0m\u001b[0;34m**\u001b[0m\u001b[0mkwargs\u001b[0m\u001b[0;34m)\u001b[0m\u001b[0;34m\u001b[0m\u001b[0;34m\u001b[0m\u001b[0m\n\u001b[0m\u001b[1;32m     74\u001b[0m     \u001b[0;32mreturn\u001b[0m \u001b[0minner_f\u001b[0m\u001b[0;34m\u001b[0m\u001b[0;34m\u001b[0m\u001b[0m\n\u001b[1;32m     75\u001b[0m \u001b[0;34m\u001b[0m\u001b[0m\n",
                        "\u001b[0;32m/opt/conda/envs/Python-3.7-main/lib/python3.7/site-packages/sklearn/utils/validation.py\u001b[0m in \u001b[0;36mcheck_X_y\u001b[0;34m(X, y, accept_sparse, accept_large_sparse, dtype, order, copy, force_all_finite, ensure_2d, allow_nd, multi_output, ensure_min_samples, ensure_min_features, y_numeric, estimator)\u001b[0m\n\u001b[1;32m    801\u001b[0m                     \u001b[0mensure_min_samples\u001b[0m\u001b[0;34m=\u001b[0m\u001b[0mensure_min_samples\u001b[0m\u001b[0;34m,\u001b[0m\u001b[0;34m\u001b[0m\u001b[0;34m\u001b[0m\u001b[0m\n\u001b[1;32m    802\u001b[0m                     \u001b[0mensure_min_features\u001b[0m\u001b[0;34m=\u001b[0m\u001b[0mensure_min_features\u001b[0m\u001b[0;34m,\u001b[0m\u001b[0;34m\u001b[0m\u001b[0;34m\u001b[0m\u001b[0m\n\u001b[0;32m--> 803\u001b[0;31m                     estimator=estimator)\n\u001b[0m\u001b[1;32m    804\u001b[0m     \u001b[0;32mif\u001b[0m \u001b[0mmulti_output\u001b[0m\u001b[0;34m:\u001b[0m\u001b[0;34m\u001b[0m\u001b[0;34m\u001b[0m\u001b[0m\n\u001b[1;32m    805\u001b[0m         y = check_array(y, accept_sparse='csr', force_all_finite=True,\n",
                        "\u001b[0;32m/opt/conda/envs/Python-3.7-main/lib/python3.7/site-packages/sklearn/utils/validation.py\u001b[0m in \u001b[0;36minner_f\u001b[0;34m(*args, **kwargs)\u001b[0m\n\u001b[1;32m     71\u001b[0m                           FutureWarning)\n\u001b[1;32m     72\u001b[0m         \u001b[0mkwargs\u001b[0m\u001b[0;34m.\u001b[0m\u001b[0mupdate\u001b[0m\u001b[0;34m(\u001b[0m\u001b[0;34m{\u001b[0m\u001b[0mk\u001b[0m\u001b[0;34m:\u001b[0m \u001b[0marg\u001b[0m \u001b[0;32mfor\u001b[0m \u001b[0mk\u001b[0m\u001b[0;34m,\u001b[0m \u001b[0marg\u001b[0m \u001b[0;32min\u001b[0m \u001b[0mzip\u001b[0m\u001b[0;34m(\u001b[0m\u001b[0msig\u001b[0m\u001b[0;34m.\u001b[0m\u001b[0mparameters\u001b[0m\u001b[0;34m,\u001b[0m \u001b[0margs\u001b[0m\u001b[0;34m)\u001b[0m\u001b[0;34m}\u001b[0m\u001b[0;34m)\u001b[0m\u001b[0;34m\u001b[0m\u001b[0;34m\u001b[0m\u001b[0m\n\u001b[0;32m---> 73\u001b[0;31m         \u001b[0;32mreturn\u001b[0m \u001b[0mf\u001b[0m\u001b[0;34m(\u001b[0m\u001b[0;34m**\u001b[0m\u001b[0mkwargs\u001b[0m\u001b[0;34m)\u001b[0m\u001b[0;34m\u001b[0m\u001b[0;34m\u001b[0m\u001b[0m\n\u001b[0m\u001b[1;32m     74\u001b[0m     \u001b[0;32mreturn\u001b[0m \u001b[0minner_f\u001b[0m\u001b[0;34m\u001b[0m\u001b[0;34m\u001b[0m\u001b[0m\n\u001b[1;32m     75\u001b[0m \u001b[0;34m\u001b[0m\u001b[0m\n",
                        "\u001b[0;32m/opt/conda/envs/Python-3.7-main/lib/python3.7/site-packages/sklearn/utils/validation.py\u001b[0m in \u001b[0;36mcheck_array\u001b[0;34m(array, accept_sparse, accept_large_sparse, dtype, order, copy, force_all_finite, ensure_2d, allow_nd, ensure_min_samples, ensure_min_features, estimator)\u001b[0m\n\u001b[1;32m    597\u001b[0m                     \u001b[0marray\u001b[0m \u001b[0;34m=\u001b[0m \u001b[0marray\u001b[0m\u001b[0;34m.\u001b[0m\u001b[0mastype\u001b[0m\u001b[0;34m(\u001b[0m\u001b[0mdtype\u001b[0m\u001b[0;34m,\u001b[0m \u001b[0mcasting\u001b[0m\u001b[0;34m=\u001b[0m\u001b[0;34m\"unsafe\"\u001b[0m\u001b[0;34m,\u001b[0m \u001b[0mcopy\u001b[0m\u001b[0;34m=\u001b[0m\u001b[0;32mFalse\u001b[0m\u001b[0;34m)\u001b[0m\u001b[0;34m\u001b[0m\u001b[0;34m\u001b[0m\u001b[0m\n\u001b[1;32m    598\u001b[0m                 \u001b[0;32melse\u001b[0m\u001b[0;34m:\u001b[0m\u001b[0;34m\u001b[0m\u001b[0;34m\u001b[0m\u001b[0m\n\u001b[0;32m--> 599\u001b[0;31m                     \u001b[0marray\u001b[0m \u001b[0;34m=\u001b[0m \u001b[0mnp\u001b[0m\u001b[0;34m.\u001b[0m\u001b[0masarray\u001b[0m\u001b[0;34m(\u001b[0m\u001b[0marray\u001b[0m\u001b[0;34m,\u001b[0m \u001b[0morder\u001b[0m\u001b[0;34m=\u001b[0m\u001b[0morder\u001b[0m\u001b[0;34m,\u001b[0m \u001b[0mdtype\u001b[0m\u001b[0;34m=\u001b[0m\u001b[0mdtype\u001b[0m\u001b[0;34m)\u001b[0m\u001b[0;34m\u001b[0m\u001b[0;34m\u001b[0m\u001b[0m\n\u001b[0m\u001b[1;32m    600\u001b[0m             \u001b[0;32mexcept\u001b[0m \u001b[0mComplexWarning\u001b[0m\u001b[0;34m:\u001b[0m\u001b[0;34m\u001b[0m\u001b[0;34m\u001b[0m\u001b[0m\n\u001b[1;32m    601\u001b[0m                 raise ValueError(\"Complex data not supported\\n\"\n",
                        "\u001b[0;32m/opt/conda/envs/Python-3.7-main/lib/python3.7/site-packages/numpy/core/_asarray.py\u001b[0m in \u001b[0;36masarray\u001b[0;34m(a, dtype, order)\u001b[0m\n\u001b[1;32m     83\u001b[0m \u001b[0;34m\u001b[0m\u001b[0m\n\u001b[1;32m     84\u001b[0m     \"\"\"\n\u001b[0;32m---> 85\u001b[0;31m     \u001b[0;32mreturn\u001b[0m \u001b[0marray\u001b[0m\u001b[0;34m(\u001b[0m\u001b[0ma\u001b[0m\u001b[0;34m,\u001b[0m \u001b[0mdtype\u001b[0m\u001b[0;34m,\u001b[0m \u001b[0mcopy\u001b[0m\u001b[0;34m=\u001b[0m\u001b[0;32mFalse\u001b[0m\u001b[0;34m,\u001b[0m \u001b[0morder\u001b[0m\u001b[0;34m=\u001b[0m\u001b[0morder\u001b[0m\u001b[0;34m)\u001b[0m\u001b[0;34m\u001b[0m\u001b[0;34m\u001b[0m\u001b[0m\n\u001b[0m\u001b[1;32m     86\u001b[0m \u001b[0;34m\u001b[0m\u001b[0m\n\u001b[1;32m     87\u001b[0m \u001b[0;34m\u001b[0m\u001b[0m\n",
                        "\u001b[0;31mValueError\u001b[0m: could not convert string to float: 'A2T3T0'"
                    ]
                }
            ]
        },
        {
            "metadata": {},
            "cell_type": "markdown",
            "source": "Feature's Value Distribution"
        },
        {
            "metadata": {},
            "cell_type": "code",
            "source": "",
            "execution_count": null,
            "outputs": []
        }
    ],
    "metadata": {
        "kernelspec": {
            "name": "python3",
            "display_name": "Python 3.7",
            "language": "python"
        },
        "language_info": {
            "name": "python",
            "version": "3.7.9",
            "mimetype": "text/x-python",
            "codemirror_mode": {
                "name": "ipython",
                "version": 3
            },
            "pygments_lexer": "ipython3",
            "nbconvert_exporter": "python",
            "file_extension": ".py"
        }
    },
    "nbformat": 4,
    "nbformat_minor": 1
}