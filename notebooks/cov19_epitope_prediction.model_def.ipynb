{
    "cells": [
        {
            "cell_type": "markdown",
            "metadata": {},
            "source": "# Model Definition\n## Introduction\n\nThis notebook is using a simple dataset for epitope prediction used in vaccine development from the Kaggle COVID-19/SARS B-cell Epitope Prediction data which cloned on a Github repository for the sake of this project. This notebook will go through the following steps:\n1. Load Training set\n2. Test models\n3. Score models"
        },
        {
            "cell_type": "markdown",
            "metadata": {},
            "source": "## Setup"
        },
        {
            "cell_type": "code",
            "execution_count": 1,
            "metadata": {},
            "outputs": [],
            "source": "## Environment libraries\nimport os, types\nimport ibm_boto3\nfrom botocore.client import Config\nimport warnings\n\n## Data procession libraries\nimport numpy as np\nimport pandas as pd\n\n## Plot libraries\nimport matplotlib.pyplot as plt\n\n## Machine learning classifiers\nfrom sklearn.linear_model import LogisticRegression\nfrom sklearn.svm import LinearSVC\nfrom sklearn.tree import DecisionTreeClassifier\nfrom sklearn.ensemble import RandomForestClassifier\nfrom sklearn.naive_bayes import GaussianNB\nfrom sklearn.neighbors import KNeighborsClassifier\nfrom sklearn.neural_network import MLPClassifier\nfrom sklearn.discriminant_analysis import QuadraticDiscriminantAnalysis\n\n## Performance metric libraries\nfrom sklearn.metrics import make_scorer\nfrom sklearn.metrics import accuracy_score\nfrom sklearn.metrics import precision_score\nfrom sklearn.metrics import recall_score\nfrom sklearn.metrics import f1_score\nfrom sklearn.model_selection import cross_validate\nfrom sklearn import metrics"
        },
        {
            "cell_type": "code",
            "execution_count": 2,
            "metadata": {},
            "outputs": [],
            "source": "# Handle warnings\nwarnings.filterwarnings('ignore')  # \"error\", \"ignore\", \"always\", \"default\", \"module\", \"always\" or \"once\""
        },
        {
            "cell_type": "markdown",
            "metadata": {},
            "source": "## Load Training Data"
        },
        {
            "cell_type": "code",
            "execution_count": 3,
            "metadata": {
                "scrolled": true
            },
            "outputs": [
                {
                    "data": {
                        "text/html": "<div>\n<style scoped>\n    .dataframe tbody tr th:only-of-type {\n        vertical-align: middle;\n    }\n\n    .dataframe tbody tr th {\n        vertical-align: top;\n    }\n\n    .dataframe thead th {\n        text-align: right;\n    }\n</style>\n<table border=\"1\" class=\"dataframe\">\n  <thead>\n    <tr style=\"text-align: right;\">\n      <th></th>\n      <th>peptide_length</th>\n      <th>chou_fasman</th>\n      <th>emini</th>\n      <th>kolaskar_tongaonkar</th>\n      <th>parker</th>\n      <th>isoelectric_point</th>\n      <th>aromaticity</th>\n      <th>hydrophobicity</th>\n      <th>stability</th>\n      <th>kmeans_feature</th>\n      <th>target</th>\n    </tr>\n  </thead>\n  <tbody>\n    <tr>\n      <th>0</th>\n      <td>0.0</td>\n      <td>0.476285</td>\n      <td>0.017313</td>\n      <td>0.431655</td>\n      <td>0.619814</td>\n      <td>0.248550</td>\n      <td>0.566651</td>\n      <td>0.564298</td>\n      <td>0.264627</td>\n      <td>0.000000</td>\n      <td>1</td>\n    </tr>\n    <tr>\n      <th>1</th>\n      <td>0.0</td>\n      <td>0.233202</td>\n      <td>0.004408</td>\n      <td>0.865707</td>\n      <td>0.284809</td>\n      <td>0.295412</td>\n      <td>0.359258</td>\n      <td>0.597317</td>\n      <td>0.148556</td>\n      <td>0.333333</td>\n      <td>1</td>\n    </tr>\n    <tr>\n      <th>2</th>\n      <td>0.0</td>\n      <td>0.314229</td>\n      <td>0.084398</td>\n      <td>0.292566</td>\n      <td>0.733319</td>\n      <td>0.530951</td>\n      <td>0.503623</td>\n      <td>0.880225</td>\n      <td>0.170325</td>\n      <td>0.333333</td>\n      <td>1</td>\n    </tr>\n    <tr>\n      <th>3</th>\n      <td>0.0</td>\n      <td>0.865613</td>\n      <td>0.062751</td>\n      <td>0.235012</td>\n      <td>0.845722</td>\n      <td>0.064573</td>\n      <td>0.245679</td>\n      <td>0.447703</td>\n      <td>0.192377</td>\n      <td>0.333333</td>\n      <td>1</td>\n    </tr>\n    <tr>\n      <th>4</th>\n      <td>0.0</td>\n      <td>0.671937</td>\n      <td>0.046989</td>\n      <td>0.237410</td>\n      <td>0.753154</td>\n      <td>0.372240</td>\n      <td>0.569787</td>\n      <td>0.429961</td>\n      <td>0.123374</td>\n      <td>0.333333</td>\n      <td>1</td>\n    </tr>\n  </tbody>\n</table>\n</div>",
                        "text/plain": "   peptide_length  chou_fasman     emini  kolaskar_tongaonkar    parker  \\\n0             0.0     0.476285  0.017313             0.431655  0.619814   \n1             0.0     0.233202  0.004408             0.865707  0.284809   \n2             0.0     0.314229  0.084398             0.292566  0.733319   \n3             0.0     0.865613  0.062751             0.235012  0.845722   \n4             0.0     0.671937  0.046989             0.237410  0.753154   \n\n   isoelectric_point  aromaticity  hydrophobicity  stability  kmeans_feature  \\\n0           0.248550     0.566651        0.564298   0.264627        0.000000   \n1           0.295412     0.359258        0.597317   0.148556        0.333333   \n2           0.530951     0.503623        0.880225   0.170325        0.333333   \n3           0.064573     0.245679        0.447703   0.192377        0.333333   \n4           0.372240     0.569787        0.429961   0.123374        0.333333   \n\n   target  \n0       1  \n1       1  \n2       1  \n3       1  \n4       1  "
                    },
                    "execution_count": 3,
                    "metadata": {},
                    "output_type": "execute_result"
                }
            ],
            "source": "# The code was removed by Watson Studio for sharing."
        },
        {
            "cell_type": "markdown",
            "metadata": {},
            "source": "## Model Testing and Results\nEight models were tested using 10 fold cross-validation. This included:\n1. Logistic Regression model\n2. Linear Support Vector Classifier\n3. Decision Tree Classifier\n4. Guassian NB\n5. K-Neighbor Classifier\n6. Quadratic Discriminant Analysis\n7. Random Forest Classifier\n8. MLP Neural network Classifier.\n\nThe MLP classifier was selected base on accuracy measurements"
        },
        {
            "cell_type": "code",
            "execution_count": 4,
            "metadata": {},
            "outputs": [],
            "source": "# Create variable and target arrays\nX = df.drop(['target'], axis = 1).to_numpy()\ny = df['target'].to_numpy()"
        },
        {
            "cell_type": "code",
            "execution_count": 5,
            "metadata": {},
            "outputs": [],
            "source": "# Define dictionary with performance metrics\nscoring = {'accuracy':make_scorer(accuracy_score), \n           'precision':make_scorer(precision_score),\n           'recall':make_scorer(recall_score), \n           'f1_score':make_scorer(f1_score)}"
        },
        {
            "cell_type": "code",
            "execution_count": 6,
            "metadata": {},
            "outputs": [],
            "source": "# Instantiate the machine learning classifiers\nlog_model = LogisticRegression(max_iter=10000)\nsvc_model = LinearSVC(dual=False)\ndtr_model = DecisionTreeClassifier(max_depth=5)\nrfc_model = RandomForestClassifier(max_depth=5, n_estimators=10, max_features=1)\ngnb_model = GaussianNB()\nknc_model = KNeighborsClassifier(3)\nqda_model = QuadraticDiscriminantAnalysis()\nmlp_model = MLPClassifier(alpha=1, max_iter=1000)"
        },
        {
            "cell_type": "code",
            "execution_count": 9,
            "metadata": {},
            "outputs": [
                {
                    "data": {
                        "text/html": "<div>\n<style scoped>\n    .dataframe tbody tr th:only-of-type {\n        vertical-align: middle;\n    }\n\n    .dataframe tbody tr th {\n        vertical-align: top;\n    }\n\n    .dataframe thead th {\n        text-align: right;\n    }\n</style>\n<table border=\"1\" class=\"dataframe\">\n  <thead>\n    <tr style=\"text-align: right;\">\n      <th></th>\n      <th>Logistic Regression</th>\n      <th>Support Vector Classifier</th>\n      <th>Decision Tree</th>\n      <th>Random Forest</th>\n      <th>Gaussian Naive Bayes</th>\n      <th>K Neighbor Classifier</th>\n      <th>QuaD Analysis</th>\n      <th>Neural Network</th>\n      <th>Best Score</th>\n    </tr>\n  </thead>\n  <tbody>\n    <tr>\n      <th>Accuracy</th>\n      <td>0.726840</td>\n      <td>0.728719</td>\n      <td>0.566731</td>\n      <td>0.711079</td>\n      <td>0.715904</td>\n      <td>0.502320</td>\n      <td>0.706248</td>\n      <td>0.728852</td>\n      <td>Neural Network</td>\n    </tr>\n    <tr>\n      <th>Precision</th>\n      <td>0.420078</td>\n      <td>0.448300</td>\n      <td>0.295900</td>\n      <td>0.360442</td>\n      <td>0.385342</td>\n      <td>0.236481</td>\n      <td>0.343946</td>\n      <td>0.000000</td>\n      <td>Support Vector Classifier</td>\n    </tr>\n    <tr>\n      <th>Recall</th>\n      <td>0.032156</td>\n      <td>0.019796</td>\n      <td>0.248027</td>\n      <td>0.026219</td>\n      <td>0.071983</td>\n      <td>0.350777</td>\n      <td>0.113508</td>\n      <td>0.000000</td>\n      <td>K Neighbor Classifier</td>\n    </tr>\n    <tr>\n      <th>F1 Score</th>\n      <td>0.057523</td>\n      <td>0.036401</td>\n      <td>0.239563</td>\n      <td>0.045789</td>\n      <td>0.117175</td>\n      <td>0.279058</td>\n      <td>0.158530</td>\n      <td>0.000000</td>\n      <td>K Neighbor Classifier</td>\n    </tr>\n  </tbody>\n</table>\n</div>",
                        "text/plain": "           Logistic Regression  Support Vector Classifier  Decision Tree  \\\nAccuracy              0.726840                   0.728719       0.566731   \nPrecision             0.420078                   0.448300       0.295900   \nRecall                0.032156                   0.019796       0.248027   \nF1 Score              0.057523                   0.036401       0.239563   \n\n           Random Forest  Gaussian Naive Bayes  K Neighbor Classifier  \\\nAccuracy        0.711079              0.715904               0.502320   \nPrecision       0.360442              0.385342               0.236481   \nRecall          0.026219              0.071983               0.350777   \nF1 Score        0.045789              0.117175               0.279058   \n\n           QuaD Analysis  Neural Network                 Best Score  \nAccuracy        0.706248        0.728852             Neural Network  \nPrecision       0.343946        0.000000  Support Vector Classifier  \nRecall          0.113508        0.000000      K Neighbor Classifier  \nF1 Score        0.158530        0.000000      K Neighbor Classifier  "
                    },
                    "execution_count": 9,
                    "metadata": {},
                    "output_type": "execute_result"
                }
            ],
            "source": "# Define the models evaluation function\ndef models_evaluation(X, y, folds):\n    \n    '''\n    X : data set features\n    y : data set target\n    folds : number of cross-validation folds\n    \n    '''\n    \n## Perform cross-validation to each machine learning classifier\n    log = cross_validate(log_model, X, y, cv=folds, scoring=scoring)\n    svc = cross_validate(svc_model, X, y, cv=folds, scoring=scoring)\n    dtr = cross_validate(dtr_model, X, y, cv=folds, scoring=scoring)\n    rfc = cross_validate(rfc_model, X, y, cv=folds, scoring=scoring)\n    gnb = cross_validate(gnb_model, X, y, cv=folds, scoring=scoring)\n    knc = cross_validate(knc_model, X, y, cv=folds, scoring=scoring)   \n    qda = cross_validate(qda_model, X, y, cv=folds, scoring=scoring)\n    mlp = cross_validate(mlp_model, X, y, cv=folds, scoring=scoring)\n    \n    models_scores_table = pd.DataFrame({'Logistic Regression':[log['test_accuracy'].mean(),\n                                                               log['test_precision'].mean(),\n                                                               log['test_recall'].mean(),\n                                                               log['test_f1_score'].mean()],\n                                       \n                                      'Support Vector Classifier':[svc['test_accuracy'].mean(),\n                                                                   svc['test_precision'].mean(),\n                                                                   svc['test_recall'].mean(),\n                                                                   svc['test_f1_score'].mean()],\n                                       \n                                      'Decision Tree':[dtr['test_accuracy'].mean(),\n                                                       dtr['test_precision'].mean(),\n                                                       dtr['test_recall'].mean(),\n                                                       dtr['test_f1_score'].mean()],\n                                       \n                                      'Random Forest':[rfc['test_accuracy'].mean(),\n                                                       rfc['test_precision'].mean(),\n                                                       rfc['test_recall'].mean(),\n                                                       rfc['test_f1_score'].mean()],\n                                       \n                                      'Gaussian Naive Bayes':[gnb['test_accuracy'].mean(),\n                                                              gnb['test_precision'].mean(),\n                                                              gnb['test_recall'].mean(),\n                                                              gnb['test_f1_score'].mean()],\n                                       \n                                       'K Neighbor Classifier':[knc['test_accuracy'].mean(),\n                                                              knc['test_precision'].mean(),\n                                                              knc['test_recall'].mean(),\n                                                              knc['test_f1_score'].mean()],\n                                        \n                                        'QuaD Analysis':[qda['test_accuracy'].mean(),\n                                                              qda['test_precision'].mean(),\n                                                              qda['test_recall'].mean(),\n                                                              qda['test_f1_score'].mean()],\n                                       \n                                       'Neural Network':[mlp['test_accuracy'].mean(),\n                                                              mlp['test_precision'].mean(),\n                                                              mlp['test_recall'].mean(),\n                                                              mlp['test_f1_score'].mean()]},\n                                      \n                                      index=['Accuracy', 'Precision', 'Recall', 'F1 Score'])\n    ### Add 'Best Score' column\n    models_scores_table['Best Score'] = models_scores_table.idxmax(axis=1)\n    \n    ### Return models performance metrics scores data frame\n    return(models_scores_table)\n\n## Run models_evaluation function\nmodels_evaluation(X, y, 10)"
        }
    ],
    "metadata": {
        "kernelspec": {
            "display_name": "Python 3.7",
            "language": "python",
            "name": "python3"
        },
        "language_info": {
            "codemirror_mode": {
                "name": "ipython",
                "version": 3
            },
            "file_extension": ".py",
            "mimetype": "text/x-python",
            "name": "python",
            "nbconvert_exporter": "python",
            "pygments_lexer": "ipython3",
            "version": "3.7.10"
        }
    },
    "nbformat": 4,
    "nbformat_minor": 1
}