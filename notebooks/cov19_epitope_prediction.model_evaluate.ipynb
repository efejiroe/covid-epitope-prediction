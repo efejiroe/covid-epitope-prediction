{
    "cells": [
        {
            "cell_type": "markdown",
            "metadata": {},
            "source": "# Model Evaluation\n## Introduction\n\nThis notebook is using a simple dataset for epitope prediction used in vaccine development from the Kaggle COVID-19/SARS B-cell Epitope Prediction data which cloned on a Github repository for the sake of this project. This notebook will go through the following steps:\n1. Load Training set\n2. Evaluate the MLP Classifier model using AUC and Confusion Matrix"
        },
        {
            "cell_type": "markdown",
            "metadata": {},
            "source": "## Setup"
        },
        {
            "cell_type": "code",
            "execution_count": 1,
            "metadata": {},
            "outputs": [],
            "source": "## Environment libraries\nimport os, types\nimport ibm_boto3\nfrom botocore.client import Config\nimport warnings\n\n## Data processing libraries\nimport numpy as np\nimport pandas as pd\n\n## Plot libraries\nimport matplotlib.pyplot as plt\nimport seaborn as sns\n\n## Machine learning classifier and tools\nfrom sklearn.neural_network import MLPClassifier\nfrom sklearn.model_selection import train_test_split, RandomizedSearchCV\n\n## Performance metric libraries\nfrom sklearn.metrics import accuracy_score\nfrom sklearn.metrics import precision_score\nfrom sklearn.metrics import recall_score\nfrom sklearn.metrics import f1_score\nfrom sklearn.metrics import classification_report\nfrom sklearn.metrics import confusion_matrix\nfrom sklearn.metrics import roc_auc_score\nfrom sklearn.metrics import roc_curve\nfrom sklearn.exceptions import ConvergenceWarning\nfrom sklearn import metrics\nfrom sklearn import model_selection"
        },
        {
            "cell_type": "code",
            "execution_count": 2,
            "metadata": {},
            "outputs": [],
            "source": "# Handle warnings\nwarnings.filterwarnings('ignore')  # \"error\", \"ignore\", \"always\", \"default\", \"module\", \"always\" or \"once\""
        },
        {
            "cell_type": "markdown",
            "metadata": {},
            "source": "## Load Training Data"
        },
        {
            "cell_type": "code",
            "execution_count": 4,
            "metadata": {
                "scrolled": true
            },
            "outputs": [],
            "source": "# The code was removed by Watson Studio for sharing."
        },
        {
            "cell_type": "markdown",
            "metadata": {},
            "source": "## Model Training and Evaluation"
        },
        {
            "cell_type": "code",
            "execution_count": 5,
            "metadata": {},
            "outputs": [],
            "source": "# Create variable and target training and testing arrays\nX = df.drop(['target'], axis = 1).to_numpy()\ny = df['target'].to_numpy()"
        },
        {
            "cell_type": "code",
            "execution_count": 6,
            "metadata": {},
            "outputs": [],
            "source": "# Instantiate the machine learning classifiers\nmlp = MLPClassifier(hidden_layer_sizes=(50, 100, 50), max_iter=1000, alpha=1e-4, solver='lbfgs', random_state=42, learning_rate_init=.1)"
        },
        {
            "cell_type": "code",
            "execution_count": 7,
            "metadata": {},
            "outputs": [],
            "source": "X_train,X_test,y_train,y_test = train_test_split(X,y,stratify=y,test_size=0.3,random_state=0)"
        },
        {
            "cell_type": "code",
            "execution_count": 8,
            "metadata": {},
            "outputs": [
                {
                    "name": "stdout",
                    "output_type": "stream",
                    "text": "Training set score: 0.840809\n"
                }
            ],
            "source": "# Train model\nmlp.fit(X_train,y_train)\nprint(\"Training set score: %f\" % mlp.score(X_train, y_train))"
        },
        {
            "cell_type": "code",
            "execution_count": 9,
            "metadata": {},
            "outputs": [],
            "source": "# Evaluate Functions\n\n## Visual Evaluation Function\ndef visual_evaluation(model,gradient_booster=False):        \n    fpr, tpr, _ = roc_curve(y_test, model.predict(X_test))\n    plt.plot(fpr,tpr,linestyle='--')\n    plt.show()\n\n## Text Evaluation Function\ndef text_evaluation(model):\n    print(classification_report(y_test,model.predict(X_test)))\n    print(\"Accuracy: \" + str(accuracy_score(y_test,model.predict(X_test))))\n    print('AUC Score: ' + str(roc_auc_score(y_test,model.predict(X_test))))"
        },
        {
            "cell_type": "code",
            "execution_count": 10,
            "metadata": {},
            "outputs": [
                {
                    "data": {
                        "image/png": "[encoded data removed]",
                        "text/plain": "<Figure size 432x288 with 1 Axes>"
                    },
                    "metadata": {
                        "needs_background": "light"
                    },
                    "output_type": "display_data"
                }
            ],
            "source": "# Visual evaluation\nvisual_evaluation(mlp,gradient_booster=False)"
        },
        {
            "cell_type": "code",
            "execution_count": 11,
            "metadata": {},
            "outputs": [
                {
                    "data": {
                        "image/png": "[encoded data removed]",
                        "text/plain": "<Figure size 432x288 with 2 Axes>"
                    },
                    "metadata": {
                        "needs_background": "light"
                    },
                    "output_type": "display_data"
                }
            ],
            "source": "# Confusion Matrix\ny_pred = mlp.predict(X_test)\nconf_matrix = metrics.confusion_matrix(y_test, y_pred)\nsns.heatmap(conf_matrix, annot=True,  fmt='');\ntitle = 'Epitope MPL Classifer'\nplt.title(title);"
        },
        {
            "cell_type": "code",
            "execution_count": 195,
            "metadata": {},
            "outputs": [
                {
                    "name": "stdout",
                    "output_type": "stream",
                    "text": "              precision    recall  f1-score   support\n\n           0       0.84      0.92      0.88      3260\n           1       0.72      0.53      0.61      1213\n\n    accuracy                           0.82      4473\n   macro avg       0.78      0.72      0.74      4473\nweighted avg       0.81      0.82      0.81      4473\n\nAccuracy: 0.8160071540353231\nAUC Score: 0.7249475265401909\n"
                }
            ],
            "source": "# Evaluation\ntext_evaluation(mlp)"
        }
    ],
    "metadata": {
        "kernelspec": {
            "display_name": "Python 3.7",
            "language": "python",
            "name": "python3"
        },
        "language_info": {
            "codemirror_mode": {
                "name": "ipython",
                "version": 3
            },
            "file_extension": ".py",
            "mimetype": "text/x-python",
            "name": "python",
            "nbconvert_exporter": "python",
            "pygments_lexer": "ipython3",
            "version": "3.7.10"
        }
    },
    "nbformat": 4,
    "nbformat_minor": 1
}