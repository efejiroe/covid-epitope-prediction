{
    "cells": [
        {
            "metadata": {},
            "cell_type": "markdown",
            "source": "## 1. Setup"
        },
        {
            "metadata": {},
            "cell_type": "code",
            "source": "# Load dependencies\nimport pandas as pd\nimport numpy as np\nfrom sklearn import preprocessing",
            "execution_count": 1,
            "outputs": []
        },
        {
            "metadata": {},
            "cell_type": "code",
            "source": "# Load data\nPROJECT_ID = \"be864dcc-5bf7-4978-b225-77c8e568a9bc\"\nPROJECT_TOKEN = \"p-4bfabbe1e029211e8cef6987a2e530ed6713ef9d\"\nINPUT_DIR = 'https://raw.githubusercontent.com/efejiroe/covid_epitope_prediction/master/data/'\n\nbcell = pd.read_csv(f'{INPUT_DIR}/input_bcell.csv')\nsars = pd.read_csv(f'{INPUT_DIR}/input_sars.csv') \nbsars = pd.concat([bcell, sars], axis=0, ignore_index=True) ",
            "execution_count": 2,
            "outputs": []
        },
        {
            "metadata": {},
            "cell_type": "markdown",
            "source": "## 2. Feature Transformations and Creation"
        },
        {
            "metadata": {},
            "cell_type": "markdown",
            "source": "### Strategy\n1. Drop columns previous shown to have low feature importance\n2. Create new column \"peptide_length\" from the end_position and start_positions"
        },
        {
            "metadata": {},
            "cell_type": "code",
            "source": "# Drop low importance and target columns from training and test set.\nbsars_ft = bsars.drop([\n    'parent_protein_id',\n    'protein_seq',\n    'start_position',\n    'end_position', \n    'peptide_seq',\n    'chou_fasman', \n    'emini',\n    'kolaskar_tongaonkar',\n    'parker',\n    'target'\n], axis = 1)",
            "execution_count": 3,
            "outputs": []
        },
        {
            "metadata": {},
            "cell_type": "code",
            "source": "# Create peptide_length column\nbsars_ft['peptide_length'] = bsars['end_position'] - bsars['start_position'] + 1",
            "execution_count": 4,
            "outputs": []
        },
        {
            "metadata": {},
            "cell_type": "code",
            "source": "# Scaling values between 1 and 0.\nscaler = preprocessing.MinMaxScaler()\nbsars_fts = scaler.fit_transform(bsars_ft)\nbsars_fts\nbsars_fts = pd.DataFrame(bsars_fts)",
            "execution_count": 5,
            "outputs": []
        },
        {
            "metadata": {},
            "cell_type": "code",
            "source": "# Export training data to file as \"df+strategy version number\" \nfrom project_lib import Project\nproject = Project(project_id = PROJECT_ID ,project_access_token = PROJECT_TOKEN)\ndf = bsars_fts\ndf\nproject.save_data(file_name = \"df01.csv\",data = df.to_csv(index=False))\n",
            "execution_count": 7,
            "outputs": [
                {
                    "output_type": "execute_result",
                    "execution_count": 7,
                    "data": {
                        "text/plain": "{'file_name': 'df01.csv',\n 'message': 'File saved to project storage.',\n 'bucket_name': 'covid19epitopeprediction-donotdelete-pr-vjiedfg7ztqsrx',\n 'asset_id': '27e000cb-d186-4d37-85e3-5eb669ff28dd'}"
                    },
                    "metadata": {}
                }
            ]
        }
    ],
    "metadata": {
        "kernelspec": {
            "name": "python3",
            "display_name": "Python 3.7",
            "language": "python"
        },
        "language_info": {
            "name": "python",
            "version": "3.7.10",
            "mimetype": "text/x-python",
            "codemirror_mode": {
                "name": "ipython",
                "version": 3
            },
            "pygments_lexer": "ipython3",
            "nbconvert_exporter": "python",
            "file_extension": ".py"
        }
    },
    "nbformat": 4,
    "nbformat_minor": 1
}