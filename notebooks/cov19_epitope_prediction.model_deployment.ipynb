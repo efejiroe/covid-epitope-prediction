{
    "cells": [
        {
            "metadata": {},
            "cell_type": "markdown",
            "source": "# Model Deployment\n## Introduction\n\nThis notebook is using a simple dataset for epitope prediction used in vaccine development from the Kaggle COVID-19/SARS B-cell Epitope Prediction data which cloned on a Github repository for the sake of this project. This notebook will go through the following steps:\n1. Processes the model\n2. Uploads the model to Watson Machine Learning space\n3. Scores a model with test data\n"
        },
        {
            "metadata": {},
            "cell_type": "markdown",
            "source": "## Setup"
        },
        {
            "metadata": {},
            "cell_type": "code",
            "source": "## Environment libraries\nimport os, types\nimport ibm_boto3\nfrom botocore.client import Config\nimport warnings\n\n## Data libraries and preprocessing\nimport numpy as np\nimport pandas as pd\nfrom sklearn import preprocessing\nfrom sklearn.preprocessing import StandardScaler\nfrom sklearn.model_selection import GroupKFold\nfrom sklearn.decomposition import PCA\nfrom sklearn.cluster import KMeans\n\n## Machine learning classifier and tools\nfrom sklearn.neural_network import MLPClassifier\nfrom sklearn.model_selection import train_test_split, RandomizedSearchCV",
            "execution_count": 2,
            "outputs": []
        },
        {
            "metadata": {},
            "cell_type": "code",
            "source": "# Handle warnings\nwarnings.filterwarnings('ignore')  # \"error\", \"ignore\", \"always\", \"default\", \"module\", \"always\" or \"once\"",
            "execution_count": 3,
            "outputs": []
        },
        {
            "metadata": {},
            "cell_type": "markdown",
            "source": "## Model processing"
        },
        {
            "metadata": {},
            "cell_type": "code",
            "source": "# Import Training Set\ndef __iter__(self): return 0\n\n# @hidden_cell\n# The following code accesses a file in your IBM Cloud Object Storage. It includes your credentials.\n# You might want to remove those credentials before you share the notebook.\n\nif os.environ.get('RUNTIME_ENV_LOCATION_TYPE') == 'external':\n    endpoint_d5592f3b715a4ab696c8411b475cdae6 = 'https://s3-api.us-geo.objectstorage.softlayer.net'\nelse:\n    endpoint_d5592f3b715a4ab696c8411b475cdae6 = 'https://s3-api.us-geo.objectstorage.service.networklayer.com'\n\nclient_d5592f3b715a4ab696c8411b475cdae6 = ibm_boto3.client(service_name='s3',\n    ibm_api_key_id='qDV6Rk1jMFRAdD1sFE2uZh2tpbGIpHsvc66ObIULfDQ8',\n    ibm_auth_endpoint=\"https://iam.cloud.ibm.com/oidc/token\",\n    config=Config(signature_version='oauth'),\n    endpoint_url=endpoint_d5592f3b715a4ab696c8411b475cdae6)\n\nbody = client_d5592f3b715a4ab696c8411b475cdae6.get_object(Bucket='covid19epitopeprediction-donotdelete-pr-vjiedfg7ztqsrx',Key='train_data.csv')['Body']\n# add missing __iter__ method, so pandas accepts body as file-like object\nif not hasattr(body, \"__iter__\"): body.__iter__ = types.MethodType( __iter__, body )\n\ndf = pd.read_csv(body)\nprint (\"Training Set imported ========== 100%\")",
            "execution_count": 10,
            "outputs": [
                {
                    "output_type": "stream",
                    "text": "Training Set imported ========== 100%\n",
                    "name": "stdout"
                }
            ]
        },
        {
            "metadata": {},
            "cell_type": "code",
            "source": "# @hidden_cell\n\n# Modeling training data df\n# Create variable and target training and testing arrays\nX = df.drop(['target'], axis = 1).to_numpy()\ny = df['target'].to_numpy()\n\n# Instantiate the machine learning classifiers\nmlp = MLPClassifier(hidden_layer_sizes=(50, 100, 50), max_iter=1000, alpha=1e-4, solver='lbfgs', random_state=42, learning_rate_init=.1)\n\n# Splits dataset into training and test set\nX_train,X_test,y_train,y_test = train_test_split(X,y,stratify=y,test_size=0.3,random_state=0)\n\n# Train model\nmlp.fit(X_train,y_train)\n\n# Print\nprint (\"Epitope MLP Classifier Model trained ========== 100%\")\nprint(\"Training set score: %f\" % mlp.score(X_train, y_train))",
            "execution_count": 11,
            "outputs": [
                {
                    "output_type": "stream",
                    "text": "Epitope MLP Classifier Model trained ========== 100%\nTraining set score: 0.840809\n",
                    "name": "stdout"
                }
            ]
        },
        {
            "metadata": {},
            "cell_type": "markdown",
            "source": "## WML Connection"
        },
        {
            "metadata": {},
            "cell_type": "code",
            "source": "# @hidden_cell\n# Auth information\napi_key = 'icFCfbs1_GPNozuI-8Np9ikdsx63MCPzsrfRW1i2ItoR'\nlocation = 'us-south'\nwml_credentials = {\n    \"apikey\": api_key,\n    \"url\": 'https://' + location + '.ml.cloud.ibm.com'\n}",
            "execution_count": 12,
            "outputs": []
        },
        {
            "metadata": {},
            "cell_type": "code",
            "source": "# create client to access our WML service\nfrom ibm_watson_machine_learning import APIClient\n\nclient = APIClient(wml_credentials)\nprint(client.version)",
            "execution_count": 13,
            "outputs": [
                {
                    "output_type": "stream",
                    "text": "1.0.66\n",
                    "name": "stdout"
                }
            ]
        },
        {
            "metadata": {},
            "cell_type": "markdown",
            "source": "## Space Definition"
        },
        {
            "metadata": {},
            "cell_type": "code",
            "source": "space_id = '40d50978-e695-4927-a90f-165955ee38f9'",
            "execution_count": 14,
            "outputs": []
        },
        {
            "metadata": {},
            "cell_type": "code",
            "source": "client.spaces.list(limit=10)",
            "execution_count": 15,
            "outputs": [
                {
                    "output_type": "stream",
                    "text": "------------------------------------  ------------------------  ------------------------\nID                                    NAME                      CREATED\n40d50978-e695-4927-a90f-165955ee38f9  COVID Epitope Prediction  2021-04-10T10:00:12.995Z\n------------------------------------  ------------------------  ------------------------\n",
                    "name": "stdout"
                }
            ]
        },
        {
            "metadata": {},
            "cell_type": "code",
            "source": "client.set.default_space(space_id)",
            "execution_count": 16,
            "outputs": [
                {
                    "output_type": "execute_result",
                    "execution_count": 16,
                    "data": {
                        "text/plain": "'SUCCESS'"
                    },
                    "metadata": {}
                }
            ]
        },
        {
            "metadata": {},
            "cell_type": "markdown",
            "source": "## Upload Model"
        },
        {
            "metadata": {},
            "cell_type": "code",
            "source": "sofware_spec_uid = client.software_specifications.get_id_by_name(\"default_py3.7\")\nmetadata = {\n            client.repository.ModelMetaNames.NAME: 'COVID 19 Epitope Prediction Model',\n            client.repository.ModelMetaNames.TYPE: 'scikit-learn_0.23',\n            client.repository.ModelMetaNames.SOFTWARE_SPEC_UID: sofware_spec_uid\n}\n\npublished_model = client.repository.store_model(\n    model = mlp,\n    meta_props = metadata)",
            "execution_count": 17,
            "outputs": []
        },
        {
            "metadata": {},
            "cell_type": "code",
            "source": "# Get model details\nimport json\n\npublished_model_uid = client.repository.get_model_uid(published_model)\nmodel_details = client.repository.get_details(published_model_uid)\nprint(json.dumps(model_details, indent=2))",
            "execution_count": 18,
            "outputs": [
                {
                    "output_type": "stream",
                    "text": "{\n  \"entity\": {\n    \"software_spec\": {\n      \"id\": \"e4429883-c883-42b6-87a8-f419d64088cd\",\n      \"name\": \"default_py3.7\"\n    },\n    \"type\": \"scikit-learn_0.23\"\n  },\n  \"metadata\": {\n    \"created_at\": \"2021-04-14T11:19:50.095Z\",\n    \"id\": \"03ff8bae-0bc0-41e5-bf99-97b5b1de3ecd\",\n    \"modified_at\": \"2021-04-14T11:19:52.381Z\",\n    \"name\": \"COVID 19 Epitope Prediction Model\",\n    \"owner\": \"IBMid-5500032BVE\",\n    \"space_id\": \"40d50978-e695-4927-a90f-165955ee38f9\"\n  },\n  \"system\": {\n    \"warnings\": []\n  }\n}\n",
                    "name": "stdout"
                }
            ]
        },
        {
            "metadata": {},
            "cell_type": "code",
            "source": "client.repository.list_models()",
            "execution_count": 19,
            "outputs": [
                {
                    "output_type": "stream",
                    "text": "------------------------------------  ---------------------------------  ------------------------  -----------------\nID                                    NAME                               CREATED                   TYPE\n03ff8bae-0bc0-41e5-bf99-97b5b1de3ecd  COVID 19 Epitope Prediction Model  2021-04-14T11:19:50.002Z  scikit-learn_0.23\nab681a85-f540-40c2-8656-a6265e8d131f  COVID 19 Epitope Prediction Model  2021-04-13T10:40:43.002Z  scikit-learn_0.23\nbf0fe8de-9ae9-47aa-8da0-c42422ed04f0  COVID 19 Epitope Prediction Model  2021-04-12T13:21:46.002Z  scikit-learn_0.23\n------------------------------------  ---------------------------------  ------------------------  -----------------\n",
                    "name": "stdout"
                }
            ]
        },
        {
            "metadata": {},
            "cell_type": "code",
            "source": "# Delete old deployments\n##client.repository.delete('GUID of stored model')",
            "execution_count": 20,
            "outputs": []
        },
        {
            "metadata": {},
            "cell_type": "markdown",
            "source": "## Online Deployment"
        },
        {
            "metadata": {},
            "cell_type": "code",
            "source": "# Create online deployment\nmetadata = {\n    client.deployments.ConfigurationMetaNames.NAME: \"Deployment of COVID 19 Epitope Prediction model\",\n    client.deployments.ConfigurationMetaNames.ONLINE: {}\n}\n\ncreated_deployment = client.deployments.create(published_model_uid, meta_props=metadata)",
            "execution_count": 21,
            "outputs": [
                {
                    "output_type": "stream",
                    "text": "\n\n#######################################################################################\n\nSynchronous deployment creation for uid: '03ff8bae-0bc0-41e5-bf99-97b5b1de3ecd' started\n\n#######################################################################################\n\n\ninitializing\nready\n\n\n------------------------------------------------------------------------------------------------\nSuccessfully finished deployment creation, deployment_uid='897ed470-cb7b-41f8-92ff-d234f0c80191'\n------------------------------------------------------------------------------------------------\n\n\n",
                    "name": "stdout"
                }
            ]
        },
        {
            "metadata": {},
            "cell_type": "code",
            "source": "# Get deployment UID and show details on the deployment\ndeployment_uid = client.deployments.get_uid(created_deployment)\nclient.deployments.get_details(deployment_uid)",
            "execution_count": 27,
            "outputs": [
                {
                    "output_type": "execute_result",
                    "execution_count": 27,
                    "data": {
                        "text/plain": "{'entity': {'asset': {'id': '03ff8bae-0bc0-41e5-bf99-97b5b1de3ecd'},\n  'custom': {},\n  'deployed_asset_type': 'model',\n  'hardware_spec': {'id': 'Not_Applicable', 'name': 'S', 'num_nodes': 1},\n  'name': 'Deployment of COVID 19 Epitope Prediction model',\n  'online': {},\n  'space_id': '40d50978-e695-4927-a90f-165955ee38f9',\n  'status': {'online_url': {'url': 'https://us-south.ml.cloud.ibm.com/ml/v4/deployments/897ed470-cb7b-41f8-92ff-d234f0c80191/predictions'},\n   'state': 'ready'}},\n 'metadata': {'created_at': '2021-04-14T11:20:23.333Z',\n  'id': '897ed470-cb7b-41f8-92ff-d234f0c80191',\n  'modified_at': '2021-04-14T11:20:23.333Z',\n  'name': 'Deployment of COVID 19 Epitope Prediction model',\n  'owner': 'IBMid-5500032BVE',\n  'space_id': '40d50978-e695-4927-a90f-165955ee38f9'}}"
                    },
                    "metadata": {}
                }
            ]
        },
        {
            "metadata": {},
            "cell_type": "code",
            "source": "# list all deployments\nclient.deployments.list()",
            "execution_count": 28,
            "outputs": [
                {
                    "output_type": "stream",
                    "text": "------------------------------------  -----------------------------------------------  -----  ------------------------\nGUID                                  NAME                                             STATE  CREATED\n897ed470-cb7b-41f8-92ff-d234f0c80191  Deployment of COVID 19 Epitope Prediction model  ready  2021-04-14T11:20:23.333Z\n1dfcceb8-9a30-4637-a342-3e579f796bdf  C19-Epitope Predictor                            ready  2021-04-13T10:48:01.317Z\n------------------------------------  -----------------------------------------------  -----  ------------------------\n",
                    "name": "stdout"
                }
            ]
        },
        {
            "metadata": {},
            "cell_type": "code",
            "source": "# delete old deployments\n##client.deployments.delete('GUID of deployed model')",
            "execution_count": 29,
            "outputs": []
        },
        {
            "metadata": {},
            "cell_type": "markdown",
            "source": "## Scoring"
        },
        {
            "metadata": {},
            "cell_type": "code",
            "source": "# get scoring end point\nscoring_endpoint = client.deployments.get_scoring_href(created_deployment)\nprint(scoring_endpoint)",
            "execution_count": 30,
            "outputs": [
                {
                    "output_type": "stream",
                    "text": "https://us-south.ml.cloud.ibm.com/ml/v4/deployments/897ed470-cb7b-41f8-92ff-d234f0c80191/predictions\n",
                    "name": "stdout"
                }
            ]
        },
        {
            "metadata": {},
            "cell_type": "code",
            "source": "# use our WML client to score our model\n# add some test data\nscoring_payload = {\"input_data\": [\n    {'fields': ['peptide_length','chou_fasman','emini','kolaskar_tongaonkar','parker','isoelectric_point','aromaticity','hydrophobicity','stability','kmeans_feature'], \n     'values': [[ '0.0','0.476285','0.017313','0.431655','0.619814','0.248550','0.566651','0.564298','0.264627','0.000000' ]]\n    }]}",
            "execution_count": 31,
            "outputs": []
        },
        {
            "metadata": {},
            "cell_type": "code",
            "source": "# score the model\npredictions = client.deployments.score(deployment_uid, scoring_payload)\nprint('prediction',json.dumps(predictions, indent=2))",
            "execution_count": 32,
            "outputs": [
                {
                    "output_type": "stream",
                    "text": "prediction {\n  \"predictions\": [\n    {\n      \"fields\": [\n        \"prediction\",\n        \"probability\"\n      ],\n      \"values\": [\n        [\n          1,\n          [\n            0.20843404578178204,\n            0.791565954218218\n          ]\n        ]\n      ]\n    }\n  ]\n}\n",
                    "name": "stdout"
                }
            ]
        }
    ],
    "metadata": {
        "kernelspec": {
            "name": "python3",
            "display_name": "Python 3.7",
            "language": "python"
        },
        "language_info": {
            "name": "python",
            "version": "3.7.10",
            "mimetype": "text/x-python",
            "codemirror_mode": {
                "name": "ipython",
                "version": 3
            },
            "pygments_lexer": "ipython3",
            "nbconvert_exporter": "python",
            "file_extension": ".py"
        }
    },
    "nbformat": 4,
    "nbformat_minor": 1
}